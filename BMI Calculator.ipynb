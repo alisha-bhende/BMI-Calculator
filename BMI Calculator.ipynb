{
 "cells": [
  {
   "cell_type": "code",
   "execution_count": 9,
   "id": "2d05c691-fdfb-4220-a7a5-d3fe301347ae",
   "metadata": {},
   "outputs": [
    {
     "name": "stdin",
     "output_type": "stream",
     "text": [
      "Enter your name:  Alisha\n",
      "Enter your weight in kilograms:  60\n",
      "Enter your height in meters:  1.737\n"
     ]
    },
    {
     "ename": "TypeError",
     "evalue": "can't multiply sequence by non-int of type 'str'",
     "output_type": "error",
     "traceback": [
      "\u001b[1;31m---------------------------------------------------------------------------\u001b[0m",
      "\u001b[1;31mTypeError\u001b[0m                                 Traceback (most recent call last)",
      "Cell \u001b[1;32mIn[9], line 7\u001b[0m\n\u001b[0;32m      3\u001b[0m weight \u001b[38;5;241m=\u001b[39m \u001b[38;5;28minput\u001b[39m(\u001b[38;5;124m\"\u001b[39m\u001b[38;5;124mEnter your weight in kilograms: \u001b[39m\u001b[38;5;124m\"\u001b[39m)\n\u001b[0;32m      5\u001b[0m height \u001b[38;5;241m=\u001b[39m \u001b[38;5;28minput\u001b[39m(\u001b[38;5;124m\"\u001b[39m\u001b[38;5;124mEnter your height in meters: \u001b[39m\u001b[38;5;124m\"\u001b[39m)\n\u001b[1;32m----> 7\u001b[0m BMI \u001b[38;5;241m=\u001b[39m (weight \u001b[38;5;241m/\u001b[39m (height \u001b[38;5;241m*\u001b[39m height))\n",
      "\u001b[1;31mTypeError\u001b[0m: can't multiply sequence by non-int of type 'str'"
     ]
    }
   ],
   "source": [
    "name = input(\"Enter your name: \")\n",
    "\n",
    "weight = input(\"Enter your weight in kilograms: \")\n",
    "\n",
    "height = input(\"Enter your height in meters: \")\n",
    "\n",
    "BMI = (weight / (height * height))\n"
   ]
  },
  {
   "cell_type": "code",
   "execution_count": null,
   "id": "c8276486-9ca7-4dae-a920-c3a56e27fa14",
   "metadata": {},
   "outputs": [],
   "source": []
  },
  {
   "cell_type": "code",
   "execution_count": null,
   "id": "c4e0d273-12b4-4449-9c46-d91cb02eaad4",
   "metadata": {},
   "outputs": [],
   "source": [
    "#convert height (string) to integer & weight (string) to float"
   ]
  },
  {
   "cell_type": "code",
   "execution_count": 12,
   "id": "7cfb080e-ccfd-4390-b4dc-46cd975a9b1e",
   "metadata": {},
   "outputs": [
    {
     "name": "stdin",
     "output_type": "stream",
     "text": [
      "Enter your name:  Alisha\n",
      "Enter your weight in kilograms:  60\n",
      "Enter your height in meters:  1.737\n"
     ]
    },
    {
     "name": "stdout",
     "output_type": "stream",
     "text": [
      "19.886191327035373\n"
     ]
    }
   ],
   "source": [
    "name = input(\"Enter your name: \")\n",
    "\n",
    "weight = int(input(\"Enter your weight in kilograms: \"))\n",
    "\n",
    "height = float(input(\"Enter your height in meters: \"))\n",
    "\n",
    "BMI = (weight / (height * height))\n",
    "\n",
    "print(BMI)"
   ]
  },
  {
   "cell_type": "code",
   "execution_count": null,
   "id": "bf90744b-f7a8-4c58-aabf-dfc550983611",
   "metadata": {},
   "outputs": [],
   "source": []
  },
  {
   "cell_type": "code",
   "execution_count": null,
   "id": "25ee4358-2692-4cdb-94c1-2d362ef8c996",
   "metadata": {},
   "outputs": [],
   "source": [
    "#we need to give the user some context about what is a good or a bad range"
   ]
  },
  {
   "cell_type": "code",
   "execution_count": 11,
   "id": "ff80d93a-661e-4807-a22e-6e2af6527b03",
   "metadata": {},
   "outputs": [
    {
     "name": "stdout",
     "output_type": "stream",
     "text": [
      "Alisha, you are normal.\n"
     ]
    }
   ],
   "source": [
    "if BMI>0:\n",
    "    if (BMI<=18.4):\n",
    "        print(name +\", you are underweight.\")\n",
    "    elif (BMI<=24.9):\n",
    "        print(name +\", you are normal.\")\n",
    "    elif (BMI<=39.9):\n",
    "        print(name +\", you are overweight.\")\n",
    "    else:\n",
    "        print(name +\", you are obese.\")\n",
    "else:\n",
    "    print(\"Enter Valid Input\")"
   ]
  },
  {
   "cell_type": "code",
   "execution_count": null,
   "id": "f87ae71b-fee6-400a-a84c-ae4a111cdba2",
   "metadata": {},
   "outputs": [],
   "source": []
  },
  {
   "cell_type": "code",
   "execution_count": null,
   "id": "75e6c104-85b1-4188-9b5e-4af66656e880",
   "metadata": {},
   "outputs": [],
   "source": [
    "#now we combine everything"
   ]
  },
  {
   "cell_type": "code",
   "execution_count": 15,
   "id": "f067098d-1815-4e92-9c39-b01ff562449b",
   "metadata": {},
   "outputs": [
    {
     "name": "stdin",
     "output_type": "stream",
     "text": [
      "Enter your name:  Alisha\n",
      "Enter your weight in kilograms:  60\n",
      "Enter your height in meters:  1.737\n"
     ]
    },
    {
     "name": "stdout",
     "output_type": "stream",
     "text": [
      "19.886191327035373\n",
      "Alisha, you are normal.\n"
     ]
    }
   ],
   "source": [
    "name = input(\"Enter your name: \")\n",
    "\n",
    "weight = int(input(\"Enter your weight in kilograms: \"))\n",
    "\n",
    "height = float(input(\"Enter your height in meters: \"))\n",
    "\n",
    "BMI = (weight / (height * height))\n",
    "\n",
    "print(BMI)\n",
    "\n",
    "if BMI>0:\n",
    "    if (BMI<=18.4):\n",
    "        print(name +\", you are underweight.\")\n",
    "    elif (BMI<=24.9):\n",
    "        print(name +\", you are normal.\")\n",
    "    elif (BMI<=39.9):\n",
    "        print(name +\", you are overweight.\")\n",
    "    else:\n",
    "        print(name +\", you are obese.\")\n",
    "else:\n",
    "    print(\"Enter Valid Input\")"
   ]
  },
  {
   "cell_type": "code",
   "execution_count": null,
   "id": "0d0329ff-9065-4402-a6e3-d1ce8d0a61e1",
   "metadata": {},
   "outputs": [],
   "source": []
  },
  {
   "cell_type": "code",
   "execution_count": null,
   "id": "e247d5f2-d45c-41db-9f09-08d2826ba77c",
   "metadata": {},
   "outputs": [],
   "source": []
  },
  {
   "cell_type": "code",
   "execution_count": null,
   "id": "b5b42dbf-ebf5-457a-8985-194342172690",
   "metadata": {},
   "outputs": [],
   "source": [
    "In metric units: BMI = weight (kg) ÷ height2 (meters)"
   ]
  },
  {
   "cell_type": "code",
   "execution_count": null,
   "id": "b4216999-8f9c-463d-86eb-ccb0cec7e9e9",
   "metadata": {},
   "outputs": [],
   "source": [
    "≤ 18.4\tUnderweight\n",
    "18.5 - 24.9\tNormal\n",
    "25.0 - 39.9\tOverweight\n",
    "≥ 40.0\tObese"
   ]
  },
  {
   "cell_type": "code",
   "execution_count": null,
   "id": "4eb3c776-3c08-4c0f-b86b-951a5d16e65d",
   "metadata": {},
   "outputs": [],
   "source": []
  },
  {
   "cell_type": "code",
   "execution_count": 2,
   "id": "afd02208-34fd-4ada-8025-e9da1741d20d",
   "metadata": {},
   "outputs": [
    {
     "name": "stdin",
     "output_type": "stream",
     "text": [
      "Enter your name:  Tanissha\n",
      "Enter your weight in kilograms:  45\n",
      "Enter your height in meters:  1.676\n"
     ]
    },
    {
     "name": "stdout",
     "output_type": "stream",
     "text": [
      "16.020072795210783\n",
      "Tanissha, you are underweight.\n"
     ]
    }
   ],
   "source": [
    "name = input(\"Enter your name: \")\n",
    "\n",
    "weight = int(input(\"Enter your weight in kilograms: \"))\n",
    "\n",
    "height = float(input(\"Enter your height in meters: \"))\n",
    "\n",
    "BMI = (weight / (height * height))\n",
    "\n",
    "print(BMI)\n",
    "\n",
    "if BMI>0:\n",
    "    if (BMI<=18.4):\n",
    "        print(name +\", you are underweight.\")\n",
    "    elif (BMI<=24.9):\n",
    "        print(name +\", you are normal.\")\n",
    "    elif (BMI<=39.9):\n",
    "        print(name +\", you are overweight.\")\n",
    "    else:\n",
    "        print(name +\", you are obese.\")\n",
    "else:\n",
    "    print(\"Enter Valid Input\")"
   ]
  },
  {
   "cell_type": "code",
   "execution_count": null,
   "id": "3bdb9b8b-1dc5-4aea-93de-1237110d85c3",
   "metadata": {},
   "outputs": [],
   "source": []
  }
 ],
 "metadata": {
  "kernelspec": {
   "display_name": "Python 3 (ipykernel)",
   "language": "python",
   "name": "python3"
  },
  "language_info": {
   "codemirror_mode": {
    "name": "ipython",
    "version": 3
   },
   "file_extension": ".py",
   "mimetype": "text/x-python",
   "name": "python",
   "nbconvert_exporter": "python",
   "pygments_lexer": "ipython3",
   "version": "3.11.7"
  }
 },
 "nbformat": 4,
 "nbformat_minor": 5
}
